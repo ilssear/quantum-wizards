{
 "cells": [
  {
   "cell_type": "code",
   "execution_count": 3,
   "id": "cb8d8f25-89d2-41f2-a032-172e49311e6b",
   "metadata": {},
   "outputs": [
    {
     "name": "stderr",
     "output_type": "stream",
     "text": [
      "incorrect startxref pointer(3)\n"
     ]
    },
    {
     "name": "stdout",
     "output_type": "stream",
     "text": [
      "PDF compressed and saved as compressed_Landau.pdf\n"
     ]
    }
   ],
   "source": [
    "from PyPDF2 import PdfReader, PdfWriter\n",
    "from PIL import Image\n",
    "import io\n",
    "\n",
    "# Function to compress images\n",
    "def compress_images(page):\n",
    "    if \"/XObject\" in page.get(\"/Resources\", {}):\n",
    "        xobjects = page[\"/Resources\"][\"/XObject\"].get_object()\n",
    "        for obj in xobjects:\n",
    "            if xobjects[obj][\"/Subtype\"] == \"/Image\":\n",
    "                # Extract image data\n",
    "                size = xobjects[obj][\"/Width\"], xobjects[obj][\"/Height\"]\n",
    "                data = xobjects[obj].get_data()\n",
    "                img = Image.open(io.BytesIO(data))\n",
    "                \n",
    "                # Compress image\n",
    "                img = img.convert(\"RGB\")  # Ensure RGB mode\n",
    "                buffer = io.BytesIO()\n",
    "                img.save(buffer, format=\"JPEG\", optimize=True, quality=50)\n",
    "                \n",
    "                # Replace image data\n",
    "                xobjects[obj]._data = buffer.getvalue()\n",
    "\n",
    "# Load the original PDF\n",
    "reader = PdfReader(\"Landau_Theoretical_physics_vol_04.pdf\")\n",
    "writer = PdfWriter()\n",
    "\n",
    "# Copy pages with compressed images\n",
    "for page in reader.pages:\n",
    "    compress_images(page)\n",
    "    writer.add_page(page)\n",
    "\n",
    "# Save the compressed PDF\n",
    "with open(\"compressed_Landau.pdf\", \"wb\") as f:\n",
    "    writer.write(f)\n",
    "\n",
    "print(\"PDF compressed and saved as compressed_Landau.pdf\")\n"
   ]
  },
  {
   "cell_type": "code",
   "execution_count": 4,
   "id": "3e7074e0-41c0-49b7-8a88-66d9079fdeee",
   "metadata": {},
   "outputs": [
    {
     "name": "stdout",
     "output_type": "stream",
     "text": [
      "PDF compressed and saved as compressed_Landau.pdf\n"
     ]
    }
   ],
   "source": []
  },
  {
   "cell_type": "code",
   "execution_count": null,
   "id": "b400cafc-268a-4b77-9e0e-3d29fcf29a6a",
   "metadata": {},
   "outputs": [],
   "source": []
  }
 ],
 "metadata": {
  "kernelspec": {
   "display_name": "Python 3 (ipykernel)",
   "language": "python",
   "name": "python3"
  },
  "language_info": {
   "codemirror_mode": {
    "name": "ipython",
    "version": 3
   },
   "file_extension": ".py",
   "mimetype": "text/x-python",
   "name": "python",
   "nbconvert_exporter": "python",
   "pygments_lexer": "ipython3",
   "version": "3.10.15"
  }
 },
 "nbformat": 4,
 "nbformat_minor": 5
}
