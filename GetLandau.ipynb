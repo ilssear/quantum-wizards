{
 "cells": [
  {
   "cell_type": "code",
   "execution_count": 1,
   "id": "b4a6bf77-6066-463e-8f75-9b201c0e27ae",
   "metadata": {},
   "outputs": [
    {
     "name": "stdout",
     "output_type": "stream",
     "text": [
      "Downloaded: Landau_Lifshitz_T9.pdf\n",
      "Downloaded: Landau_Lifshitz_T10.pdf\n"
     ]
    }
   ],
   "source": [
    "import requests\n",
    "\n",
    "# Base URL for the PDFs\n",
    "base_url = \"https://charmille.art/books/Landau_Lifshitz_T\"\n",
    "\n",
    "# Range of T1 to T10\n",
    "files = [f\"{base_url}{i}.pdf\" for i in range(1, 11)]\n",
    "\n",
    "# Directory to save the PDFs\n",
    "output_dir = \"./Landau_Lifshitz/\"\n",
    "\n",
    "# Ensure the directory exists\n",
    "import os\n",
    "if not os.path.exists(output_dir):\n",
    "    os.makedirs(output_dir)\n",
    "\n",
    "# Download PDFs\n",
    "for file_url in files:\n",
    "    filename = file_url.split(\"/\")[-1]\n",
    "    output_path = os.path.join(output_dir, filename)\n",
    "    try:\n",
    "        response = requests.get(file_url, stream=True)\n",
    "        if response.status_code == 200:\n",
    "            with open(output_path, \"wb\") as file:\n",
    "                for chunk in response.iter_content(chunk_size=1024):\n",
    "                    file.write(chunk)\n",
    "            print(f\"Downloaded: {filename}\")\n",
    "        else:\n",
    "            print(f\"Failed to download: {filename} (Status code: {response.status_code})\")\n",
    "    except Exception as e:\n",
    "        print(f\"Error downloading {filename}: {e}\")\n"
   ]
  },
  {
   "cell_type": "code",
   "execution_count": null,
   "id": "355bb0cf-ff27-44a7-b426-5e2f8dce5336",
   "metadata": {},
   "outputs": [],
   "source": []
  }
 ],
 "metadata": {
  "kernelspec": {
   "display_name": "Python 3 (ipykernel)",
   "language": "python",
   "name": "python3"
  },
  "language_info": {
   "codemirror_mode": {
    "name": "ipython",
    "version": 3
   },
   "file_extension": ".py",
   "mimetype": "text/x-python",
   "name": "python",
   "nbconvert_exporter": "python",
   "pygments_lexer": "ipython3",
   "version": "3.10.15"
  }
 },
 "nbformat": 4,
 "nbformat_minor": 5
}
